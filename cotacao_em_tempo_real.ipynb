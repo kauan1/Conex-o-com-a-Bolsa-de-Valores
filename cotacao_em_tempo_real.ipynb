{
 "cells": [
  {
   "cell_type": "markdown",
   "id": "05e0b8c3",
   "metadata": {},
   "source": [
    "# Pegando cotação em tempo real da B3"
   ]
  },
  {
   "cell_type": "markdown",
   "id": "e8ac2183",
   "metadata": {},
   "source": [
    "## Passo 1 -  Baixar e configurar o MetaTrader para sua conta em uma corretora"
   ]
  },
  {
   "cell_type": "markdown",
   "id": "c8463156",
   "metadata": {},
   "source": [
    "## Passo 2 - Importar as bibliotecas"
   ]
  },
  {
   "cell_type": "code",
   "execution_count": 1,
   "id": "1e3693d5",
   "metadata": {},
   "outputs": [
    {
     "name": "stdout",
     "output_type": "stream",
     "text": [
      "Defaulting to user installation because normal site-packages is not writeable\n",
      "Collecting MetaTrader5\n",
      "  Downloading MetaTrader5-5.0.4424-cp310-cp310-win_amd64.whl (49 kB)\n",
      "     ---------------------------------------- 49.9/49.9 kB 1.3 MB/s eta 0:00:00\n",
      "Requirement already satisfied: numpy>=1.7 in c:\\programdata\\anaconda3\\lib\\site-packages (from MetaTrader5) (1.23.5)\n",
      "Installing collected packages: MetaTrader5\n",
      "Successfully installed MetaTrader5-5.0.4424\n"
     ]
    }
   ],
   "source": [
    "!pip install MetaTrader5"
   ]
  },
  {
   "cell_type": "code",
   "execution_count": 2,
   "id": "23e8c12c",
   "metadata": {},
   "outputs": [],
   "source": [
    "import MetaTrader5 as mt5\n",
    "import time"
   ]
  },
  {
   "cell_type": "markdown",
   "id": "9c9f25cb",
   "metadata": {},
   "source": [
    "## Passo 3 - Incializar o MetaTrader "
   ]
  },
  {
   "cell_type": "code",
   "execution_count": 3,
   "id": "af7a63ef",
   "metadata": {},
   "outputs": [
    {
     "data": {
      "text/plain": [
       "False"
      ]
     },
     "execution_count": 3,
     "metadata": {},
     "output_type": "execute_result"
    }
   ],
   "source": [
    "mt5.initialize()"
   ]
  },
  {
   "cell_type": "markdown",
   "id": "31483661",
   "metadata": {},
   "source": [
    "## Passo 4 - Pegar e selecionar os símbolos disponíveis"
   ]
  },
  {
   "cell_type": "code",
   "execution_count": null,
   "id": "d0f5e264",
   "metadata": {},
   "outputs": [],
   "source": [
    "simbolos = mt5.symbols_get()\n",
    "\n",
    "simbolos"
   ]
  },
  {
   "cell_type": "code",
   "execution_count": null,
   "id": "2ac8c680",
   "metadata": {},
   "outputs": [],
   "source": [
    "len(simbolos)"
   ]
  },
  {
   "cell_type": "code",
   "execution_count": null,
   "id": "3bf28b08",
   "metadata": {},
   "outputs": [],
   "source": [
    "mt5.symbol_select(\"EGIE3\")"
   ]
  },
  {
   "cell_type": "markdown",
   "id": "98d65d6a",
   "metadata": {},
   "source": [
    "## Passo 5 - Pegar as cotações em tempo real "
   ]
  },
  {
   "cell_type": "code",
   "execution_count": null,
   "id": "3f72d2c1",
   "metadata": {},
   "outputs": [],
   "source": [
    "preco_em_tempo_real = mt5.symbol_info(\"PETR4\").last\n",
    "retorno_em_tempo_real = mt5.symbol_info(\"PETR4\").price_change\n",
    "\n",
    "preco_em_tempo_real"
   ]
  },
  {
   "cell_type": "code",
   "execution_count": null,
   "id": "cc51e417",
   "metadata": {},
   "outputs": [],
   "source": [
    "tempo = time.time() + 10\n",
    "\n",
    "while time.time() < tempo:\n",
    "\n",
    "    tick = mt5.symbol_info_tick(\"PETR4\")\n",
    "    print(f\"O fechamento é {tick.last}\")\n",
    "    print(f\"O valor de compra é {tick.ask}\")\n",
    "    print(f\"O valor de venda é {tick.bid}\")\n",
    "    print(\"------------------\")\n",
    "    time.sleep(1)"
   ]
  },
  {
   "cell_type": "code",
   "execution_count": null,
   "id": "76f0d8eb",
   "metadata": {},
   "outputs": [],
   "source": []
  },
  {
   "cell_type": "code",
   "execution_count": null,
   "id": "1d159c20",
   "metadata": {},
   "outputs": [],
   "source": []
  },
  {
   "cell_type": "code",
   "execution_count": null,
   "id": "7bd84b87",
   "metadata": {},
   "outputs": [],
   "source": []
  },
  {
   "cell_type": "code",
   "execution_count": null,
   "id": "48546a53",
   "metadata": {},
   "outputs": [],
   "source": []
  },
  {
   "cell_type": "code",
   "execution_count": null,
   "id": "750d75e1",
   "metadata": {},
   "outputs": [],
   "source": []
  },
  {
   "cell_type": "code",
   "execution_count": null,
   "id": "6e5d7008",
   "metadata": {},
   "outputs": [],
   "source": []
  },
  {
   "cell_type": "code",
   "execution_count": null,
   "id": "efe467f3",
   "metadata": {},
   "outputs": [],
   "source": []
  },
  {
   "cell_type": "code",
   "execution_count": null,
   "id": "f84c443c",
   "metadata": {},
   "outputs": [],
   "source": []
  }
 ],
 "metadata": {
  "kernelspec": {
   "display_name": "Python 3 (ipykernel)",
   "language": "python",
   "name": "python3"
  },
  "language_info": {
   "codemirror_mode": {
    "name": "ipython",
    "version": 3
   },
   "file_extension": ".py",
   "mimetype": "text/x-python",
   "name": "python",
   "nbconvert_exporter": "python",
   "pygments_lexer": "ipython3",
   "version": "3.10.9"
  }
 },
 "nbformat": 4,
 "nbformat_minor": 5
}
